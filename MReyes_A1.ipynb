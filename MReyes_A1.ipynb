{
 "cells": [
  {
   "cell_type": "code",
   "execution_count": 1,
   "metadata": {},
   "outputs": [],
   "source": [
    "# Import dependencies\n",
    "import pandas as pd\n",
    "import numpy as np\n",
    "import matplotlib.pyplot as plt\n",
    "import os"
   ]
  },
  {
   "cell_type": "code",
   "execution_count": 2,
   "metadata": {},
   "outputs": [],
   "source": [
    "# Paths to base csv files\n",
    "MDA_Table_Path = os.path.join(\"MDA_table\" + os.sep, \"Master_Table_MDA.csv\")\n",
    "MTR_Table_Path = os.path.join(\"MTR_table\" + os.sep, \"Master_Table_MTR.csv\")"
   ]
  },
  {
   "cell_type": "code",
   "execution_count": 3,
   "metadata": {},
   "outputs": [],
   "source": [
    "# Create Data Frames for \n",
    "MDA_DF = pd.read_csv(MDA_Table_Path)\n",
    "MTR_DF = pd.read_csv(MTR_Table_Path)"
   ]
  },
  {
   "cell_type": "code",
   "execution_count": 4,
   "metadata": {},
   "outputs": [],
   "source": [
    "# Change Indexes\n",
    "MDA_DF = MDA_DF.set_index(\"ZONA\")\n",
    "MTR_DF = MTR_DF.set_index(\"ZONA\")"
   ]
  },
  {
   "cell_type": "code",
   "execution_count": 5,
   "metadata": {},
   "outputs": [],
   "source": [
    "# Merge MDA and MTR Data Frames to Master_DF\n",
    "Master_DF = MTR_DF.merge(MDA_DF, on=[\"ZONA\", \"SISTEMA\", \"FECHA\", \"HORA\"], how=\"outer\")"
   ]
  },
  {
   "cell_type": "code",
   "execution_count": 13,
   "metadata": {},
   "outputs": [],
   "source": [
    "# Clean empty rows from Master_DF\n",
    "Master_DF = Master_DF.dropna()"
   ]
  },
  {
   "cell_type": "code",
   "execution_count": 25,
   "metadata": {},
   "outputs": [],
   "source": [
    "# Create register DF of ZONAS where there are prices equal to zero\n",
    "NULLS_DF = Master_DF.loc[(Master_DF[\"PRECIO MTR\"] == 0) | (Master_DF[\"PRECIO MDA\"] == 0), :]"
   ]
  },
  {
   "cell_type": "code",
   "execution_count": 47,
   "metadata": {},
   "outputs": [],
   "source": [
    "# Drop rows from Master_DF where PRECIO MDA or PRECIO MTR equals zero\n",
    "Master_DF = Master_DF.loc[(Master_DF[\"PRECIO MTR\"] != 0) & (Master_DF[\"PRECIO MDA\"] != 0), :]"
   ]
  },
  {
   "cell_type": "code",
   "execution_count": 55,
   "metadata": {},
   "outputs": [
    {
     "data": {
      "text/html": [
       "<div>\n",
       "<style scoped>\n",
       "    .dataframe tbody tr th:only-of-type {\n",
       "        vertical-align: middle;\n",
       "    }\n",
       "\n",
       "    .dataframe tbody tr th {\n",
       "        vertical-align: top;\n",
       "    }\n",
       "\n",
       "    .dataframe thead th {\n",
       "        text-align: right;\n",
       "    }\n",
       "</style>\n",
       "<table border=\"1\" class=\"dataframe\">\n",
       "  <thead>\n",
       "    <tr style=\"text-align: right;\">\n",
       "      <th></th>\n",
       "      <th>SISTEMA</th>\n",
       "      <th>FECHA</th>\n",
       "      <th>HORA</th>\n",
       "      <th>PRECIO MTR</th>\n",
       "      <th>PRECIO ENERGIA MTR</th>\n",
       "      <th>PRECIO PERDIDA MTR</th>\n",
       "      <th>PRECIO CONGESTION MTR</th>\n",
       "      <th>PRECIO MDA</th>\n",
       "      <th>PRECIO ENERGIA MDA</th>\n",
       "      <th>PRECIO PERDIDA MDA</th>\n",
       "      <th>PRECIO CONGESTION MDA</th>\n",
       "      <th>MTR-MDA</th>\n",
       "      <th>P_MTR – P_MDA</th>\n",
       "      <th>P_MTR–P_MDA</th>\n",
       "    </tr>\n",
       "    <tr>\n",
       "      <th>ZONA</th>\n",
       "      <th></th>\n",
       "      <th></th>\n",
       "      <th></th>\n",
       "      <th></th>\n",
       "      <th></th>\n",
       "      <th></th>\n",
       "      <th></th>\n",
       "      <th></th>\n",
       "      <th></th>\n",
       "      <th></th>\n",
       "      <th></th>\n",
       "      <th></th>\n",
       "      <th></th>\n",
       "      <th></th>\n",
       "    </tr>\n",
       "  </thead>\n",
       "  <tbody>\n",
       "    <tr>\n",
       "      <th>ENSENADA</th>\n",
       "      <td>BCA</td>\n",
       "      <td>2018-01-01</td>\n",
       "      <td>1.0</td>\n",
       "      <td>525.48</td>\n",
       "      <td>508.92</td>\n",
       "      <td>16.56</td>\n",
       "      <td>0.0</td>\n",
       "      <td>192.06</td>\n",
       "      <td>187.15</td>\n",
       "      <td>4.90</td>\n",
       "      <td>0.0</td>\n",
       "      <td>333.42</td>\n",
       "      <td>333.42</td>\n",
       "      <td>333.42</td>\n",
       "    </tr>\n",
       "    <tr>\n",
       "      <th>ENSENADA</th>\n",
       "      <td>BCA</td>\n",
       "      <td>2018-01-01</td>\n",
       "      <td>2.0</td>\n",
       "      <td>520.96</td>\n",
       "      <td>505.26</td>\n",
       "      <td>15.70</td>\n",
       "      <td>0.0</td>\n",
       "      <td>818.25</td>\n",
       "      <td>799.03</td>\n",
       "      <td>19.22</td>\n",
       "      <td>0.0</td>\n",
       "      <td>-297.29</td>\n",
       "      <td>-297.29</td>\n",
       "      <td>-297.29</td>\n",
       "    </tr>\n",
       "    <tr>\n",
       "      <th>ENSENADA</th>\n",
       "      <td>BCA</td>\n",
       "      <td>2018-01-01</td>\n",
       "      <td>3.0</td>\n",
       "      <td>517.76</td>\n",
       "      <td>502.70</td>\n",
       "      <td>15.06</td>\n",
       "      <td>0.0</td>\n",
       "      <td>799.00</td>\n",
       "      <td>780.70</td>\n",
       "      <td>18.30</td>\n",
       "      <td>0.0</td>\n",
       "      <td>-281.24</td>\n",
       "      <td>-281.24</td>\n",
       "      <td>-281.24</td>\n",
       "    </tr>\n",
       "    <tr>\n",
       "      <th>ENSENADA</th>\n",
       "      <td>BCA</td>\n",
       "      <td>2018-01-01</td>\n",
       "      <td>4.0</td>\n",
       "      <td>512.98</td>\n",
       "      <td>498.10</td>\n",
       "      <td>14.88</td>\n",
       "      <td>0.0</td>\n",
       "      <td>829.04</td>\n",
       "      <td>810.53</td>\n",
       "      <td>18.51</td>\n",
       "      <td>0.0</td>\n",
       "      <td>-316.06</td>\n",
       "      <td>-316.06</td>\n",
       "      <td>-316.06</td>\n",
       "    </tr>\n",
       "    <tr>\n",
       "      <th>ENSENADA</th>\n",
       "      <td>BCA</td>\n",
       "      <td>2018-01-01</td>\n",
       "      <td>5.0</td>\n",
       "      <td>516.38</td>\n",
       "      <td>501.20</td>\n",
       "      <td>15.18</td>\n",
       "      <td>0.0</td>\n",
       "      <td>508.93</td>\n",
       "      <td>497.33</td>\n",
       "      <td>11.61</td>\n",
       "      <td>0.0</td>\n",
       "      <td>7.45</td>\n",
       "      <td>7.45</td>\n",
       "      <td>7.45</td>\n",
       "    </tr>\n",
       "  </tbody>\n",
       "</table>\n",
       "</div>"
      ],
      "text/plain": [
       "         SISTEMA       FECHA  HORA  PRECIO MTR  PRECIO ENERGIA MTR  \\\n",
       "ZONA                                                                 \n",
       "ENSENADA     BCA  2018-01-01   1.0      525.48              508.92   \n",
       "ENSENADA     BCA  2018-01-01   2.0      520.96              505.26   \n",
       "ENSENADA     BCA  2018-01-01   3.0      517.76              502.70   \n",
       "ENSENADA     BCA  2018-01-01   4.0      512.98              498.10   \n",
       "ENSENADA     BCA  2018-01-01   5.0      516.38              501.20   \n",
       "\n",
       "          PRECIO PERDIDA MTR  PRECIO CONGESTION MTR  PRECIO MDA  \\\n",
       "ZONA                                                              \n",
       "ENSENADA               16.56                    0.0      192.06   \n",
       "ENSENADA               15.70                    0.0      818.25   \n",
       "ENSENADA               15.06                    0.0      799.00   \n",
       "ENSENADA               14.88                    0.0      829.04   \n",
       "ENSENADA               15.18                    0.0      508.93   \n",
       "\n",
       "          PRECIO ENERGIA MDA  PRECIO PERDIDA MDA  PRECIO CONGESTION MDA  \\\n",
       "ZONA                                                                      \n",
       "ENSENADA              187.15                4.90                    0.0   \n",
       "ENSENADA              799.03               19.22                    0.0   \n",
       "ENSENADA              780.70               18.30                    0.0   \n",
       "ENSENADA              810.53               18.51                    0.0   \n",
       "ENSENADA              497.33               11.61                    0.0   \n",
       "\n",
       "          MTR-MDA  P_MTR – P_MDA  P_MTR–P_MDA  \n",
       "ZONA                                           \n",
       "ENSENADA   333.42         333.42       333.42  \n",
       "ENSENADA  -297.29        -297.29      -297.29  \n",
       "ENSENADA  -281.24        -281.24      -281.24  \n",
       "ENSENADA  -316.06        -316.06      -316.06  \n",
       "ENSENADA     7.45           7.45         7.45  "
      ]
     },
     "execution_count": 55,
     "metadata": {},
     "output_type": "execute_result"
    }
   ],
   "source": [
    "Master_DF.head()"
   ]
  },
  {
   "cell_type": "code",
   "execution_count": 54,
   "metadata": {},
   "outputs": [
    {
     "name": "stderr",
     "output_type": "stream",
     "text": [
      "/anaconda3/lib/python3.6/site-packages/ipykernel_launcher.py:2: SettingWithCopyWarning: \n",
      "A value is trying to be set on a copy of a slice from a DataFrame.\n",
      "Try using .loc[row_indexer,col_indexer] = value instead\n",
      "\n",
      "See the caveats in the documentation: http://pandas.pydata.org/pandas-docs/stable/indexing.html#indexing-view-versus-copy\n",
      "  \n"
     ]
    }
   ],
   "source": [
    "# Add P_MTR-P_MDA Column \n",
    "Master_DF[\"P_MTR–P_MDA\"] = Master_DF[\"PRECIO MTR\"] - Master_DF[\"PRECIO MDA\"]"
   ]
  }
 ],
 "metadata": {
  "kernelspec": {
   "display_name": "Python 3",
   "language": "python",
   "name": "python3"
  },
  "language_info": {
   "codemirror_mode": {
    "name": "ipython",
    "version": 3
   },
   "file_extension": ".py",
   "mimetype": "text/x-python",
   "name": "python",
   "nbconvert_exporter": "python",
   "pygments_lexer": "ipython3",
   "version": "3.6.5"
  }
 },
 "nbformat": 4,
 "nbformat_minor": 2
}
