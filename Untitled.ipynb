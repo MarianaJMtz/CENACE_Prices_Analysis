{
 "cells": [
  {
   "attachments": {},
   "cell_type": "markdown",
   "metadata": {},
   "source": [
    "# CENACE_Prices Analysis\n",
    "\n",
    "\n",
    "# Retrieval and overview of Locational Marginal Price in Mexico’s short-term energy market in 2018\n",
    "\n"
   ]
  },
  {
   "cell_type": "markdown",
   "metadata": {},
   "source": [
    "## The wholesale electricity market"
   ]
  },
  {
   "attachments": {},
   "cell_type": "markdown",
   "metadata": {},
   "source": [
    "## Mexico's national electricity system\n",
    "\n",
    "Mexico is composed of three independent systems:\n",
    "\n",
    "* **BCA** which is interconnected with California, and trades energy with CAISO’s market.\n",
    "* **BCS** which is completely isolated and works like an energy island.\n",
    "* **SIN** which is interconnected with the US, Belize and Guatemala.\n",
    "\n",
    "![GitHub Logo](/images/logo.png)\n",
    "Format: ![Alt Text](url)"
   ]
  },
  {
   "cell_type": "code",
   "execution_count": null,
   "metadata": {},
   "outputs": [],
   "source": []
  }
 ],
 "metadata": {
  "kernelspec": {
   "display_name": "Python 3",
   "language": "python",
   "name": "python3"
  },
  "language_info": {
   "codemirror_mode": {
    "name": "ipython",
    "version": 3
   },
   "file_extension": ".py",
   "mimetype": "text/x-python",
   "name": "python",
   "nbconvert_exporter": "python",
   "pygments_lexer": "ipython3",
   "version": "3.6.5"
  }
 },
 "nbformat": 4,
 "nbformat_minor": 2
}
